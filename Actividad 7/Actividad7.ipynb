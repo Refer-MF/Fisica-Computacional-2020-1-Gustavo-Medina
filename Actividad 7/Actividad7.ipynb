{
  "nbformat": 4,
  "nbformat_minor": 0,
  "metadata": {
    "colab": {
      "name": "Actividad7.ipynb",
      "provenance": [],
      "collapsed_sections": []
    },
    "kernelspec": {
      "name": "python3",
      "display_name": "Python 3"
    }
  },
  "cells": [
    {
      "cell_type": "markdown",
      "metadata": {
        "id": "rqeDHXPI-Eia"
      },
      "source": [
        "# $\\text{Resumen de la actividad:}$\n",
        "\n",
        "$\\text{En esta actividad se comenzara a trabajar con algebra lineal en Python.}$\n",
        "\n",
        "$\\underline{\\text{Lunes: }} \\text{Declaracion y Operaciones basicas de matrices}$"
      ]
    },
    {
      "cell_type": "code",
      "metadata": {
        "id": "LFxD0kmh-qnX"
      },
      "source": [
        "#Importando bibliotecas\n",
        "\n",
        "import matplotlib.pyplot as plt\n",
        "import numpy as np\n",
        "import scipy.linalg as la #Para algebra lineal\n",
        "from numpy.linalg import matrix_power as mpow #Exponentes de matrices\n",
        "import pandas as pd"
      ],
      "execution_count": 2,
      "outputs": []
    },
    {
      "cell_type": "markdown",
      "metadata": {
        "id": "b9rq-zbQ-g3N"
      },
      "source": [
        "#$\\underline{\\text{Lunes}}$"
      ]
    },
    {
      "cell_type": "code",
      "metadata": {
        "colab": {
          "base_uri": "https://localhost:8080/"
        },
        "id": "OaqHBZBN4Mjv",
        "outputId": "fe7102f6-4ffb-4a4e-ac6b-6925719e4a88"
      },
      "source": [
        "#Declarando una matriz 2x2:\n",
        "\n",
        "M2x2 = np.array([[1,2],[3,4]])\n",
        "\n",
        "print(M2x2)\n",
        "\n",
        "#Informacion sobre una matriz:\n",
        "\n",
        "print('\\n ')\n",
        "#print('\\n ')\n",
        "print('Numero de dimensiones: ')\n",
        "print(M2x2.ndim)\n",
        "print('Forma de la matriz: ')\n",
        "print(M2x2.shape)\n",
        "print('Tamano de la matriz: ')\n",
        "print(M2x2.size)\n",
        "print('\\n ')\n",
        "\n",
        "\n",
        "#Operaciones de matrices\n",
        "print('Multiplicacion de una matriz por otra:')\n",
        "print(M2x2*M2x2) #Multiplicacion (cada valor por cada valor)\n",
        "print('Suma de una matriz y otra:')\n",
        "print(M2x2+M2x2)\n",
        "print('\\n')\n",
        "#Es decir, las operaciones basicas (+,-,*,**,/) se realizan elemento a elemento\n",
        "\n",
        "#Producto matricial:\n",
        "print('Producto matricial:')\n",
        "print(M2x2@M2x2)\n"
      ],
      "execution_count": 3,
      "outputs": [
        {
          "output_type": "stream",
          "text": [
            "[[1 2]\n",
            " [3 4]]\n",
            "\n",
            " \n",
            "Numero de dimensiones: \n",
            "2\n",
            "Forma de la matriz: \n",
            "(2, 2)\n",
            "Tamano de la matriz: \n",
            "4\n",
            "\n",
            " \n",
            "Multiplicacion de una matriz por otra:\n",
            "[[ 1  4]\n",
            " [ 9 16]]\n",
            "Suma de una matriz y otra:\n",
            "[[2 4]\n",
            " [6 8]]\n",
            "\n",
            "\n",
            "Producto matricial:\n",
            "[[ 7 10]\n",
            " [15 22]]\n"
          ],
          "name": "stdout"
        }
      ]
    },
    {
      "cell_type": "code",
      "metadata": {
        "colab": {
          "base_uri": "https://localhost:8080/"
        },
        "id": "IHHAh5ol_FBy",
        "outputId": "61368d14-cfdf-405d-d36c-d42fe5877e7b"
      },
      "source": [
        "#EJERCICIO 1:\n",
        "\n",
        "#Definiendo las matrices:\n",
        "\n",
        "A=np.array([[1,3],[-1,7]])\n",
        "B=np.array([[5,2],[1,2]])\n",
        "I=np.array([[1,0],[0,1]])\n",
        "\n",
        "#Ahora, calculando el resultado de 2*I+3*A+A@B:\n",
        "\n",
        "Res=(2*I)+(3*A)+(A@B)\n",
        "print('Resultado: ') \n",
        "print(Res)\n"
      ],
      "execution_count": 4,
      "outputs": [
        {
          "output_type": "stream",
          "text": [
            "Resultado: \n",
            "[[13 17]\n",
            " [-1 35]]\n"
          ],
          "name": "stdout"
        }
      ]
    },
    {
      "cell_type": "markdown",
      "metadata": {
        "id": "Yvbg6-VeDyTf"
      },
      "source": [
        "$\\underline{\\text{Funcion mpow (Matriz elevada)}}$"
      ]
    },
    {
      "cell_type": "code",
      "metadata": {
        "colab": {
          "base_uri": "https://localhost:8080/"
        },
        "id": "I6G583QcC_cI",
        "outputId": "3c529cdc-6650-40a4-c01a-0c6bbf085f84"
      },
      "source": [
        "#Como usar la funcion mpow:\n",
        "\n",
        "#Como los ecponentes de matrices no estan definidos como comando, se importo la funcion mpow en la primera celda.\n",
        "\n",
        "#La declaracion es mpow(Matriz, Numero al que se quiere elevar)\n",
        "\n",
        "#Ejemplo\n",
        "print(mpow(M2x2,2))\n",
        "print('\\n')\n",
        "print(M2x2@M2x2)\n",
        "print('\\n')\n",
        "\n",
        "print(mpow(M2x2,10))\n",
        "print('\\n')\n",
        "print(M2x2@M2x2@M2x2@M2x2@M2x2@M2x2@M2x2@M2x2@M2x2@M2x2)\n"
      ],
      "execution_count": 5,
      "outputs": [
        {
          "output_type": "stream",
          "text": [
            "[[ 7 10]\n",
            " [15 22]]\n",
            "\n",
            "\n",
            "[[ 7 10]\n",
            " [15 22]]\n",
            "\n",
            "\n",
            "[[ 4783807  6972050]\n",
            " [10458075 15241882]]\n",
            "\n",
            "\n",
            "[[ 4783807  6972050]\n",
            " [10458075 15241882]]\n"
          ],
          "name": "stdout"
        }
      ]
    },
    {
      "cell_type": "markdown",
      "metadata": {
        "id": "KlqgPxkyD4xx"
      },
      "source": [
        "$\\underline{\\text{Sacando la transpuesta de una matriz (M.T):}}$"
      ]
    },
    {
      "cell_type": "code",
      "metadata": {
        "colab": {
          "base_uri": "https://localhost:8080/"
        },
        "id": "CcQdBwejDwVt",
        "outputId": "3caab3f3-f4c0-4117-d313-65ea33322936"
      },
      "source": [
        "#Si quisieramos sacar la transpuesta de una matriz, lo que podemos hacer es usar la funcion M.T, donde M es la matriz objetivo:\n",
        "\n",
        "#Ejemplo:\n",
        "print('Normal:')\n",
        "print(M2x2)\n",
        "print('Transpuesta:')\n",
        "print(M2x2.T)"
      ],
      "execution_count": 6,
      "outputs": [
        {
          "output_type": "stream",
          "text": [
            "Normal:\n",
            "[[1 2]\n",
            " [3 4]]\n",
            "Transpuesta:\n",
            "[[1 3]\n",
            " [2 4]]\n"
          ],
          "name": "stdout"
        }
      ]
    },
    {
      "cell_type": "markdown",
      "metadata": {
        "id": "3A6XFunjEaXV"
      },
      "source": [
        "$\\underline{\\text{Sumando los valores de la diagonal de una matriz con np.trace():}}$"
      ]
    },
    {
      "cell_type": "code",
      "metadata": {
        "colab": {
          "base_uri": "https://localhost:8080/"
        },
        "id": "7Vb7hjgkEmeu",
        "outputId": "45e45654-f938-47d0-ba86-1b7f343933f0"
      },
      "source": [
        "#Para sumar los valores de la diagonal de una matriz podemos usar np.trace():\n",
        "\n",
        "#Ejemplo:\n",
        "print('Matriz M:')\n",
        "print(M2x2)\n",
        "\n",
        "print('Suma de diagonal de matriz M:')\n",
        "print(np.trace(M2x2))"
      ],
      "execution_count": 7,
      "outputs": [
        {
          "output_type": "stream",
          "text": [
            "Matriz M:\n",
            "[[1 2]\n",
            " [3 4]]\n",
            "Suma de diagonal de matriz M:\n",
            "5\n"
          ],
          "name": "stdout"
        }
      ]
    },
    {
      "cell_type": "markdown",
      "metadata": {
        "id": "sj0Be_ckE4wZ"
      },
      "source": [
        "$\\underline{\\text{Sacando el determinante de una matriz con la.det(M):}}$"
      ]
    },
    {
      "cell_type": "code",
      "metadata": {
        "colab": {
          "base_uri": "https://localhost:8080/"
        },
        "id": "G_Yjr6EiE-z3",
        "outputId": "de401d0a-5e85-4308-bb0f-b355da8bc6b6"
      },
      "source": [
        "#Si queremos sacar el determinante de una matriz arbitraria M, usamos scipy.linalg.det, que importamos en la primera celda. El comando es la.det(M):\n",
        "\n",
        "#Ejemplo:\n",
        "print('Matriz M:')\n",
        "print(M2x2)\n",
        "print('Determinante de la matriz M:')\n",
        "print(la.det(M2x2))"
      ],
      "execution_count": 8,
      "outputs": [
        {
          "output_type": "stream",
          "text": [
            "Matriz M:\n",
            "[[1 2]\n",
            " [3 4]]\n",
            "Determinante de la matriz M:\n",
            "-2.0\n"
          ],
          "name": "stdout"
        }
      ]
    },
    {
      "cell_type": "markdown",
      "metadata": {
        "id": "JXRlfpwHFuvF"
      },
      "source": [
        "$\\underline{\\text{Sacando la inversa de una matriz con la.inv(M):}}$"
      ]
    },
    {
      "cell_type": "code",
      "metadata": {
        "colab": {
          "base_uri": "https://localhost:8080/"
        },
        "id": "YKIq8H9xF3Nj",
        "outputId": "eb5bcd37-6f5b-4b42-db42-4b6e305a1042"
      },
      "source": [
        "#Si queremos sacar la matriz inversa M^-1 de una matriz M usamos la.inv(M)\n",
        "\n",
        "#Ejemplo\n",
        "print('Matriz M:')\n",
        "print(M2x2)\n",
        "print('Inversa de la matriz M:')\n",
        "la.inv(M2x2)"
      ],
      "execution_count": 9,
      "outputs": [
        {
          "output_type": "stream",
          "text": [
            "Matriz M:\n",
            "[[1 2]\n",
            " [3 4]]\n",
            "Inversa de la matriz M:\n"
          ],
          "name": "stdout"
        },
        {
          "output_type": "execute_result",
          "data": {
            "text/plain": [
              "array([[-2. ,  1. ],\n",
              "       [ 1.5, -0.5]])"
            ]
          },
          "metadata": {
            "tags": []
          },
          "execution_count": 9
        }
      ]
    },
    {
      "cell_type": "code",
      "metadata": {
        "id": "rgqZRFpFBvWE",
        "colab": {
          "base_uri": "https://localhost:8080/"
        },
        "outputId": "e0379f3e-7e71-4c01-8344-e36bc4738bd9"
      },
      "source": [
        "#Ejercicio 2:\n",
        "\n",
        "#Tenemos una matriz M 2x2 [[a,b],[c,d]] donde ad - bc es desigual de 0, es decir ad es desigual de bc, entonces:\n",
        "\n",
        "#Ahora, pediremos los valores 'a', 'b', 'c' y 'd':\n",
        "\n",
        "print('Por favor introduzca el valor de a:')\n",
        "a=float(input())\n",
        "print('Por favor introduzca el valor de b:')\n",
        "b=float(input())\n",
        "print('Por favor introduzca el valor de c:')\n",
        "c=float(input())\n",
        "print('Por favor introduzca el valor de d:')\n",
        "d=float(input())\n",
        "\n",
        "#Lo guardamos en una matriz M:\n",
        "\n",
        "I = np.array([[1,0],[0,1]])\n",
        "M = np.array([[a,b],[c,d]])\n",
        "print(M)\n",
        "\n",
        "#Sacamos su determinante:\n",
        "det_M = la.det(M)\n",
        "print('Determinante de M = ', det_M)\n",
        "\n",
        "#Sacamos su traza:\n",
        "tr_M = np.trace(M)\n",
        "print('La traza de M es: ', tr_M)\n",
        "\n",
        "#Ahora podemos demostrar el polinomio caracteristico:\n",
        "P2M = det_M*I - tr_M*M + mpow(M,2)\n",
        "print(P2M)\n",
        "\n"
      ],
      "execution_count": 10,
      "outputs": [
        {
          "output_type": "stream",
          "text": [
            "Por favor introduzca el valor de a:\n",
            "1\n",
            "Por favor introduzca el valor de b:\n",
            "1\n",
            "Por favor introduzca el valor de c:\n",
            "1\n",
            "Por favor introduzca el valor de d:\n",
            "1\n",
            "[[1. 1.]\n",
            " [1. 1.]]\n",
            "Determinante de M =  0.0\n",
            "La traza de M es:  2.0\n",
            "[[0. 0.]\n",
            " [0. 0.]]\n"
          ],
          "name": "stdout"
        }
      ]
    },
    {
      "cell_type": "code",
      "metadata": {
        "id": "fVNodV-l8gkJ",
        "colab": {
          "base_uri": "https://localhost:8080/"
        },
        "outputId": "769747cf-3d9f-43f3-ec1a-cb2133b3dfbd"
      },
      "source": [
        "print('Por favor introduzca el valor de \"a\" de su matriz:')\n",
        "a = input()\n",
        "print('Ahora, por favor introduzca el valor de \"b\" de su matriz:')\n",
        "b = input()\n",
        "print('Ahora, por favor introduzca el valor de \"c\" de su matriz:')\n",
        "c = input()\n",
        "print('Ahora, por favor introduzca el valor de \"d\" de su matriz:')\n",
        "d = input()\n",
        "\n",
        "#Construimos la matriz que el usuario ingreso:\n",
        "A=np.array( [[a,b],[c,d]] )\n",
        "\n",
        "#Definimos el polinomio caracteristico\n",
        "def P(M):\n",
        "  P=la.det(M)*np.eye(2,dtype=int)-np.trace(M)*M + mpow(M,2)\n",
        "  print(P, '=P(A)')\n",
        "\n",
        "detA=la.det(A)\n",
        "if (detA==0.0):\n",
        "  print('Lo siento, pero el determinante de dicha matriz es igual a 0, por lo tanto no satisface el Teorema de Cayley-Hamilton.')\n",
        "  print('\\nEl determinante es det(M)=', detA)\n",
        "  exit\n",
        "\n",
        "else:\n",
        "  print('El polinomio especifico de M es:', P(A))"
      ],
      "execution_count": 11,
      "outputs": [
        {
          "output_type": "stream",
          "text": [
            "Por favor introduzca el valor de \"a\" de su matriz:\n",
            "1\n",
            "Ahora, por favor introduzca el valor de \"b\" de su matriz:\n",
            "1\n",
            "Ahora, por favor introduzca el valor de \"c\" de su matriz:\n",
            "1\n",
            "Ahora, por favor introduzca el valor de \"d\" de su matriz:\n",
            "1\n",
            "Lo siento, pero el determinante de dicha matriz es igual a 0, por lo tanto no satisface el Teorema de Cayley-Hamilton.\n",
            "\n",
            "El determinante es det(M)= 0.0\n"
          ],
          "name": "stdout"
        }
      ]
    },
    {
      "cell_type": "markdown",
      "metadata": {
        "id": "GF6nM10fxQuR"
      },
      "source": [
        "# $\\underline{\\text{Ejercicio 3:}}$\n",
        "\n",
        "Resuelva el sistema de ecuaciones.\n",
        "\n",
        "\\begin{equation}\n",
        "x-3y+z=1\\\\\n",
        "3x-4y+z=5\\\\\n",
        "2y-z=0\n",
        "\\end{equation}\n",
        "\n",
        "de dos formas, utilizando el Metodo de Eliminacion Gaussiana y utilizando la funcion scipy.linalg.solve()"
      ]
    },
    {
      "cell_type": "code",
      "metadata": {
        "id": "Xd6oAyPGwy8z"
      },
      "source": [
        "#Metodo de eliminacion Gaussiana:\n",
        "\n",
        "def switch_rows(A,i,j):\n",
        "  \"Intercambiar los renglones i y j en la matriz A.\"\n",
        "  n = A.shape[0]\n",
        "  E = np.eye(n)\n",
        "  E[i,i] = 0\n",
        "  E[j,j] = 0\n",
        "  E[i,j] = 1\n",
        "  E[j,i] = 1\n",
        "  return E @ A\n",
        "\n",
        "def scale_row(A,k,i):\n",
        "  \"Multiplicar el renglon i por k, en la matiz A.\"\n",
        "  n = A.shape[0]\n",
        "  E = np.eye(n)\n",
        "  E[i,i] = k\n",
        "  return E @ A\n",
        "\n",
        "def add_row(A,k,i,j):\n",
        "  \"Sumar k veces el renglon j al renglon i en la matriz A.\"\n",
        "  n = A.shape[0]\n",
        "  E = np.eye(n)\n",
        "  if i == j:\n",
        "    E[i,i] = k + 1\n",
        "  else:\n",
        "    E[i,j] = k\n",
        "  return E @ A"
      ],
      "execution_count": 12,
      "outputs": []
    },
    {
      "cell_type": "code",
      "metadata": {
        "colab": {
          "base_uri": "https://localhost:8080/"
        },
        "id": "-k8MNY5V1W8E",
        "outputId": "88361e1a-0059-4953-fff4-8b16eebe8230"
      },
      "source": [
        "#Declaramos una matriz M con los valores del sistema de ecuaciones:\n",
        "\n",
        "M = np.array([[1,-3,1],[3,-4,1],[0,2,-1]])\n",
        "I = np.array([[1,0],[0,1]])\n",
        "\n",
        "det_M = la.det(M)\n",
        "print('El determinante de la matriz es: ', det_M)\n",
        "\n",
        "#Unimos la matriz M con la matriz Identidad:\n",
        "A = np.hstack([M,np.eye(3)])\n",
        "print(A)\n",
        "\n",
        "#Ahora sumaremos k veces el renglon j al renglon i en la matriz A:\n",
        "A1 = add_row(A,-3,1,0)\n",
        "print(A1)\n",
        "\n",
        "A2 = scale_row(A1,1/5,1)\n",
        "print(A2)\n",
        "\n",
        "A3 = add_row(A2,-2,2,1)\n",
        "print(A3)\n",
        "\n",
        "A4 = add_row(A3,3,0,1)\n",
        "print(A4)\n",
        "\n",
        "A5 = scale_row(A4,1/(A4[2,2]),2)\n",
        "print(A5)\n",
        "\n",
        "A6 = add_row(A5,-1*(A5[1,2]/(A5[2,2])),1,2)\n",
        "print(A6)\n",
        "\n",
        "A7 = add_row(A6,-1*(A6[0,2]/(A6[2,2])),0,2)\n",
        "print(A7)\n",
        "\n",
        "M_inv = A7[:,3:]\n",
        "print(M_inv)\n",
        "\n",
        "#Comprobamos que es en realidad la inversa:\n",
        "la.inv(M)\n",
        "\n",
        "#Definimos b:\n",
        "b = np.array([1,5,0]).reshape(3,1)\n",
        "print(b)"
      ],
      "execution_count": 13,
      "outputs": [
        {
          "output_type": "stream",
          "text": [
            "El determinante de la matriz es:  -1.0000000000000004\n",
            "[[ 1. -3.  1.  1.  0.  0.]\n",
            " [ 3. -4.  1.  0.  1.  0.]\n",
            " [ 0.  2. -1.  0.  0.  1.]]\n",
            "[[ 1. -3.  1.  1.  0.  0.]\n",
            " [ 0.  5. -2. -3.  1.  0.]\n",
            " [ 0.  2. -1.  0.  0.  1.]]\n",
            "[[ 1.  -3.   1.   1.   0.   0. ]\n",
            " [ 0.   1.  -0.4 -0.6  0.2  0. ]\n",
            " [ 0.   2.  -1.   0.   0.   1. ]]\n",
            "[[ 1.  -3.   1.   1.   0.   0. ]\n",
            " [ 0.   1.  -0.4 -0.6  0.2  0. ]\n",
            " [ 0.   0.  -0.2  1.2 -0.4  1. ]]\n",
            "[[ 1.   0.  -0.2 -0.8  0.6  0. ]\n",
            " [ 0.   1.  -0.4 -0.6  0.2  0. ]\n",
            " [ 0.   0.  -0.2  1.2 -0.4  1. ]]\n",
            "[[ 1.   0.  -0.2 -0.8  0.6  0. ]\n",
            " [ 0.   1.  -0.4 -0.6  0.2  0. ]\n",
            " [ 0.   0.   1.  -6.   2.  -5. ]]\n",
            "[[ 1.   0.  -0.2 -0.8  0.6  0. ]\n",
            " [ 0.   1.   0.  -3.   1.  -2. ]\n",
            " [ 0.   0.   1.  -6.   2.  -5. ]]\n",
            "[[ 1.  0.  0. -2.  1. -1.]\n",
            " [ 0.  1.  0. -3.  1. -2.]\n",
            " [ 0.  0.  1. -6.  2. -5.]]\n",
            "[[-2.  1. -1.]\n",
            " [-3.  1. -2.]\n",
            " [-6.  2. -5.]]\n",
            "[[1]\n",
            " [5]\n",
            " [0]]\n"
          ],
          "name": "stdout"
        }
      ]
    },
    {
      "cell_type": "code",
      "metadata": {
        "colab": {
          "base_uri": "https://localhost:8080/"
        },
        "id": "jKQZ0Avu6tO5",
        "outputId": "506e8177-6521-47f2-db9c-a2c4d8bc2d28"
      },
      "source": [
        "#Entonces, la solucion es:\n",
        "x = M_inv @ b\n",
        "print('x = ', x)\n",
        "\n",
        "#Por ultimo, usando el metodo de la funcion scipy.linalg.solve():\n",
        "x_sol = la.solve(M,b)\n",
        "print('x = ', x_sol)"
      ],
      "execution_count": 14,
      "outputs": [
        {
          "output_type": "stream",
          "text": [
            "x =  [[3.]\n",
            " [2.]\n",
            " [4.]]\n",
            "x =  [[3.]\n",
            " [2.]\n",
            " [4.]]\n"
          ],
          "name": "stdout"
        }
      ]
    },
    {
      "cell_type": "markdown",
      "metadata": {
        "id": "WTm16r2_BGJv"
      },
      "source": [
        "# $\\underline{\\text{Ejercicio 4:}}$\n",
        "\n",
        "Dadas las siguientes matrices $B_1$, $B_2$ y $B_3$\n",
        "\n",
        "\n",
        "Encuentra los eigenvalores y eigenvectores de cada matriz utilizando la funcion de xipy.linalg,eig(), y contrasta tus resultados en cada caso con los que se desarrollan en los ejemplos de la Wikipedia."
      ]
    },
    {
      "cell_type": "code",
      "metadata": {
        "colab": {
          "base_uri": "https://localhost:8080/"
        },
        "id": "A5WPNR-sApul",
        "outputId": "f91221b2-07fc-47a4-eba1-afc1bef77db5"
      },
      "source": [
        "B1 = np.array([[2,0,0],[0,3,4],[0,4,9]])\n",
        "B2 = np.array([[0,1,0],[0,0,1],[1,0,0]])\n",
        "B3 = np.array([[2,0,0,0],[1,2,0,0],[0,1,3,0],[0,0,1,3]])\n",
        "\n",
        "#Ahora vamos a aplicar la biblioteca scipy.linalg.eig()\n",
        "\n",
        "eigvalsB1, eigvecsB1 = la.eig(B1)\n",
        "print(\"Para B1 son:\")\n",
        "print('Eigenvalores:', eigvalsB1)\n",
        "print('Eigenvectores:', eigvecsB1)\n",
        "print()\n",
        "\n",
        "eigvalsB2, eigvecsB2 = la.eig(B2)\n",
        "print(\"Para B2 son:\")\n",
        "print('Eigenvalores:', eigvalsB2)\n",
        "print('Eigenvectores:', eigvecsB2)\n",
        "print()\n",
        "\n",
        "eigvalsB3, eigvecsB3 = la.eig(B3)\n",
        "print(\"Para B3 son:\")\n",
        "print('Eigenvalores:', eigvalsB3)\n",
        "print('Eigenvectores:', eigvecsB3)"
      ],
      "execution_count": 15,
      "outputs": [
        {
          "output_type": "stream",
          "text": [
            "Para B1 son:\n",
            "Eigenvalores: [11.+0.j  1.+0.j  2.+0.j]\n",
            "Eigenvectores: [[ 0.          0.          1.        ]\n",
            " [ 0.4472136   0.89442719  0.        ]\n",
            " [ 0.89442719 -0.4472136   0.        ]]\n",
            "\n",
            "Para B2 son:\n",
            "Eigenvalores: [-0.5+0.8660254j -0.5-0.8660254j  1. +0.j       ]\n",
            "Eigenvectores: [[ 0.57735027+0.j   0.57735027-0.j  -0.57735027+0.j ]\n",
            " [-0.28867513+0.5j -0.28867513-0.5j -0.57735027+0.j ]\n",
            " [-0.28867513-0.5j -0.28867513+0.5j -0.57735027+0.j ]]\n",
            "\n",
            "Para B3 son:\n",
            "Eigenvalores: [3.+0.j 3.+0.j 2.+0.j 2.+0.j]\n",
            "Eigenvectores: [[ 0.00000000e+00  0.00000000e+00  0.00000000e+00  2.56395025e-16]\n",
            " [ 0.00000000e+00  0.00000000e+00  5.77350269e-01 -5.77350269e-01]\n",
            " [ 0.00000000e+00  6.66133815e-16 -5.77350269e-01  5.77350269e-01]\n",
            " [ 1.00000000e+00 -1.00000000e+00  5.77350269e-01 -5.77350269e-01]]\n"
          ],
          "name": "stdout"
        }
      ]
    },
    {
      "cell_type": "markdown",
      "metadata": {
        "id": "EvtJEXe4DU2r"
      },
      "source": [
        "# $\\underline{\\text{Ejercicio 5:}}$\n",
        "\n",
        "Se tienen los siguientes 8 puntos:\n",
        "\n",
        "Encuentre un polinomio interopolante $p(x)$ que pase por los 8 puntos.\n",
        "\n",
        "Sobreponga la funcion $y = sin(x)$ y contrastela con el polinomio $p(x)$."
      ]
    },
    {
      "cell_type": "code",
      "metadata": {
        "colab": {
          "base_uri": "https://localhost:8080/",
          "height": 442
        },
        "id": "iSoBWyHZDS0W",
        "outputId": "e71c0df5-8925-4f0c-f970-02be818a1b02"
      },
      "source": [
        "x = ([0.0,0.5,1.0,1.5,2.0,2.5,3.0,3.5])\n",
        "#Matriz de Vandermonde\n",
        "X = np.vander(x, increasing=True)\n",
        "y = np.array([0.0,0.47942,0.84147,0.99749,0.90930,0.59847,0.14112,-0.35078]).reshape(8,1)\n",
        "\n",
        "# Usamos la función de scipy.linalg.solve(), para encontrar los coeficientes\n",
        "# de la ecuación lineal Xa=y\n",
        "\n",
        "a = la.solve(X,y)\n",
        "print(a)\n",
        "\n",
        "# Graficamos el polinomio interpolante y los puntos interpolados\n",
        "# Los puntos interpolados en rojo ('r.')\n",
        "xs = np.linspace(0,7,200)\n",
        "ys = sum([a[k]*xs**k for k in range(0,8)])\n",
        "Seno = np.sin(xs)\n",
        "plt.plot(x,y,'r.',xs,ys)\n",
        "plt.plot(xs,Seno,'darkred')\n",
        "plt.grid()\n",
        "plt.title('Polinomio interpolante p(x)')\n",
        "plt.xlabel('x')\n",
        "plt.ylabel('y')\n",
        "plt.show()\n"
      ],
      "execution_count": 16,
      "outputs": [
        {
          "output_type": "stream",
          "text": [
            "[[ 0.00000000e+00]\n",
            " [ 1.00067181e+00]\n",
            " [-3.70788889e-03]\n",
            " [-1.58867889e-01]\n",
            " [-8.30222222e-03]\n",
            " [ 1.31964444e-02]\n",
            " [-1.54488889e-03]\n",
            " [ 2.46349206e-05]]\n"
          ],
          "name": "stdout"
        },
        {
          "output_type": "display_data",
          "data": {
            "image/png": "[encoded data removed]",
            "text/plain": [
              "<Figure size 432x288 with 1 Axes>"
            ]
          },
          "metadata": {
            "tags": [],
            "needs_background": "light"
          }
        }
      ]
    },
    {
      "cell_type": "markdown",
      "metadata": {
        "id": "KxlKsOzdRyON"
      },
      "source": [
        "# $\\underline{\\text{Ejercicio 6:}}$\n",
        "\n"
      ]
    },
    {
      "cell_type": "markdown",
      "metadata": {
        "id": "ujmVpOmAwIbE"
      },
      "source": [
        "Regrese a su modelo de análisis de series de tiempo. Haga una descomposición de su serie de tiempo de las temperaturas (Tmax y Tmin), y realice una regresión lineal sobre la serie de Tendencia de Temp $(T = a_0 + a_1 t)$. Encuentre si la pendiente es positiva o negativa de la tendencia (signo de $a_1$), es decir si las Temperaturas (Tmax, Tmin) están subiendo o bajando en el periodo analizado.\n",
        "\n",
        "NOTA: Pueden trabajar en sus Notebooks de la Actividad 5 o 6 y hacer el ajuste de regresión lineal allá donde tienen todo cargado en la memoria y luego copiar unas celdas de texto de esa Notebook y agregarlas al final de su Notebook de la Actividad 7. Así no tienen que cargar a la memoria todas las operaciones."
      ]
    },
    {
      "cell_type": "code",
      "metadata": {
        "id": "xuWOkHJxEGoG",
        "colab": {
          "base_uri": "https://localhost:8080/"
        },
        "outputId": "b663843d-29da-406f-dff9-e96805cee763"
      },
      "source": [
        "#==========CREANDO UN DF DEL ARCHIVO DE DATOS Y UN DF PROVICIONAL DE TRABAJO====================\n",
        "# Creamos un DataFrame compra a partir del archivo de texto de los datos diarios de la estacion en nuestro repositorio:\n",
        "\n",
        "url = \"https://raw.githubusercontent.com/Refer-MF/Fisica-Computacional-2020-1-Gustavo-Medina/master/Actividad%201/Datos%20diarios.txt\"\n",
        "#La URL del archivo de datos que esta guardado en mi repositorio de GH\n",
        "encabezados=['FECHA','PRECIP','EVAP','TMax','TMin'] #Encabezados de las columnas, de acuerdo al archivo que se leera\n",
        "\n",
        "\n",
        "df_datclim = pd.read_csv(url, names=encabezados, encoding='cp1251', sep='\\s+', header=None, skiprows=19, skipfooter=1, engine='python')\n",
        "#El df read se declara con (url del archivo que usaras, names=como quieres que se titulen las columnas, encoding=formato del archivo que en este caso es \n",
        "#espanol, sep= la separacion de los datos en el archivo, header= (Encabezado?), skiprows=numero de renglones que quieres que se omitan del principio, skipfooter= numero de renglones que quieres que se omitan del final, engine= el motor que lo leera)\n",
        "\n",
        "\n",
        "#print(df_datclim.head(10)) #Para imprimir los primeros tres renglones del df\n",
        "#print(df_datclim.tail(10)) #Para imprimir los ultimos tres renglones del df\n",
        "#df_datclim.shape #Para imprimir la forma del df (Renglones, columnas). Mi df tiene una forma de (24364,5) \n",
        "#df_datclim.info() #Para imprimir la informacion del df (Cuantas columnas, nombres de columnas, conteo de datos por columnas, tipo de dato)\n",
        "\n",
        "\n",
        "df_datclim0=df_datclim.copy() #Creando un df con el cual trabajaremos, el otro lo mantendremos intacto\n",
        "#df_datclim0.head()\n",
        "\n",
        "str_Nulo='Nulo'\n",
        "df_datclim1=df_datclim0.replace(to_replace=str_Nulo, value=' ', regex=True) #Este df no tendra ningun \"Nulo\" en sus casillas.\n",
        "#df_datclim1.head()\n",
        "\n",
        "#======================PASANDO LOS DATOS A NUMERICOS======================\n",
        "cols_list=['PRECIP','EVAP','TMax','TMin'] #Un diccionario que usaremos para analizar el df en un loop for\n",
        "for cols in cols_list:\n",
        "  df_datclim1[cols]=pd.to_numeric(df_datclim1[cols], errors='coerce') #Pasando los datos en las columnas del diccionario a numerico y los que no apliquen\n",
        "#seran mostrados como un 'NaN' (Eso significa 'errors='coerce'')\n",
        "\n",
        "#df_datclim1.info() #A partir de esta informacion, vemos que a mi set de datos no le hace falta muchos. Pero para asegurarnos, contaremos los fatos faltantes.\n",
        "\n",
        "print('\\n ') #Solo para ayudar en la lectura\n",
        "\n",
        "#=============CONTANDO LOS DATOS FALTANTES=====================\n",
        "#df_datclim1.isnull().sum() #*Sumando los valores nulos. A partir de esta informacion vemos que la precipitacion no tiene ningun dato nulo, la evaporacion\n",
        "#tiene la mayoria de datos nulos con 214, la temperatura maxima y la minima les faltan a los dos 5 datos. De los 70 y algo años que lleva activa la\n",
        "#estacion, me parece que le falta muy pocos datos.\n",
        "\n",
        "#df_datclim1.head()\n",
        "#df_datclim1.tail()\n",
        "\n",
        "#============ANALISIS ESTADISTICO===============\n",
        "#df_datclim1.describe() #A partir de esto podemos observar que los datos no tienen ninguna incoherencia. Los datos de temperatura, en base a mi experiencia\n",
        "#y mi vivencia en esta region, parecen normales, exceptuando la temperatura minima de -2 grados, ya que en la ciudad de Obregon nunca he experimentado \n",
        "#temperaturas bajo cero (sin embargo no es algo sorpresivo, ya que en epocas de invierno las temperaturas llegan hasta 6 grados centigrados).\n",
        "#La precipitacion maxima es de 137.5 mm, lo cual es bastante, y se puede explicar con algun huracan o tormenta tropical.\n",
        "\n",
        "#==============TRABAJANDO CON FECHAS===============\n",
        "df_datclim2=df_datclim1.copy()\n",
        "#df_datclim2['FECHA'].head() #Para imprimir solo las de la columna 'FECHA'\n",
        "\n",
        "df_datclim2['FECHA']=pd.to_datetime(df_datclim2['FECHA'], dayfirst=True).copy() #Cambiando los datos de la columna FECHAS a fechas con el dia primero.\n",
        "#df_datclim2['FECHA'].head()\n",
        "df_datclim2.dtypes #Checando el tipo de dato de las columnas.\n",
        "\n",
        "df_datclim2['Año']=df_datclim2['FECHA'].dt.year #Añadiendo una columna 'Año' al df con el año respectivo de la medida\n",
        "df_datclim2['Mes']=df_datclim2['FECHA'].dt.month #Añadiendo una columna 'Mes' al df con el mes respectivo de la medida\n",
        "\n",
        "#df_datclim2.head()\n",
        "#df_datclim2.tail()\n",
        "\n",
        "#df_datclim2.info() #Para checar que la informacion este correcta\n",
        "\n",
        "#===============================================================================\n",
        "#============FIN DE LA PRIMERA SEMANA===========================================\n",
        "#===============================================================================\n",
        "\n",
        "df_datclim3=df_datclim2.copy() #Df con el que trabajaremos en esta semana\n",
        "\n",
        "#Copia de serie de tiempo:\n",
        "df_ts = df_datclim3.copy()\n",
        "\n",
        "#Poniendo como indice la variable 'Fecha':\n",
        "df_ts = df_ts.set_index('FECHA')\n",
        "print(df_ts.head())\n",
        "print(df_ts.tail())\n",
        "\n",
        "#Haciendo periodos de tres decadas:\n",
        "df_30 = df_ts[(df_ts['Año'] >= 1949) & (df_ts['Año'] < 1980)]\n",
        "df_60 = df_ts[(df_ts['Año'] >= 1980) & (df_ts['Año'] < 2011)]\n",
        "df_90 = df_ts[(df_ts['Año'] >= 2011) & (df_ts['Año'] < 2017)]"
      ],
      "execution_count": 17,
      "outputs": [
        {
          "output_type": "stream",
          "text": [
            "\n",
            " \n",
            "            PRECIP  EVAP  TMax  TMin   Año  Mes\n",
            "FECHA                                          \n",
            "1949-05-19     0.0   NaN  38.5   NaN  1949    5\n",
            "1949-05-20     0.0   NaN  40.5  13.0  1949    5\n",
            "1949-05-21     0.0  13.1  41.5  13.5  1949    5\n",
            "1949-05-22     0.0  11.7  42.0  13.5  1949    5\n",
            "1949-05-23     0.0  11.5  40.0  15.5  1949    5\n",
            "            PRECIP  EVAP  TMax  TMin   Año  Mes\n",
            "FECHA                                          \n",
            "2016-09-26     0.0   6.9  38.0  21.0  2016    9\n",
            "2016-09-27     0.0   5.9  37.0  24.0  2016    9\n",
            "2016-09-28     0.0   6.1  40.0  23.0  2016    9\n",
            "2016-09-29     0.0   8.1  39.0  25.0  2016    9\n",
            "2016-09-30     0.0   6.8  37.0  26.0  2016    9\n"
          ],
          "name": "stdout"
        }
      ]
    },
    {
      "cell_type": "code",
      "metadata": {
        "id": "GGj7D2DLzWPT"
      },
      "source": [
        "from datetime import datetime as dt\n",
        "import time\n",
        "\n",
        "def toYearFraction(date):\n",
        "    def sinceEpoch(date): # returns seconds since epoch\n",
        "        return time.mktime(date.timetuple())\n",
        "    s = sinceEpoch\n",
        "\n",
        "    year = date.year\n",
        "    startOfThisYear = dt(year=year, month=1, day=1)\n",
        "    startOfNextYear = dt(year=year+1, month=1, day=1)\n",
        "\n",
        "    yearElapsed = s(date) - s(startOfThisYear)\n",
        "    yearDuration = s(startOfNextYear) - s(startOfThisYear)\n",
        "    fraction = yearElapsed/yearDuration\n",
        "\n",
        "    return date.year + fraction"
      ],
      "execution_count": 18,
      "outputs": []
    },
    {
      "cell_type": "code",
      "metadata": {
        "colab": {
          "base_uri": "https://localhost:8080/",
          "height": 238
        },
        "id": "hn0ytt6J0Dnj",
        "outputId": "26054ecd-ef01-4560-e7f6-de218045e67a"
      },
      "source": [
        "df_ts.head()"
      ],
      "execution_count": 19,
      "outputs": [
        {
          "output_type": "execute_result",
          "data": {
            "text/html": [
              "<div>\n",
              "<style scoped>\n",
              "    .dataframe tbody tr th:only-of-type {\n",
              "        vertical-align: middle;\n",
              "    }\n",
              "\n",
              "    .dataframe tbody tr th {\n",
              "        vertical-align: top;\n",
              "    }\n",
              "\n",
              "    .dataframe thead th {\n",
              "        text-align: right;\n",
              "    }\n",
              "</style>\n",
              "<table border=\"1\" class=\"dataframe\">\n",
              "  <thead>\n",
              "    <tr style=\"text-align: right;\">\n",
              "      <th></th>\n",
              "      <th>PRECIP</th>\n",
              "      <th>EVAP</th>\n",
              "      <th>TMax</th>\n",
              "      <th>TMin</th>\n",
              "      <th>Año</th>\n",
              "      <th>Mes</th>\n",
              "    </tr>\n",
              "    <tr>\n",
              "      <th>FECHA</th>\n",
              "      <th></th>\n",
              "      <th></th>\n",
              "      <th></th>\n",
              "      <th></th>\n",
              "      <th></th>\n",
              "      <th></th>\n",
              "    </tr>\n",
              "  </thead>\n",
              "  <tbody>\n",
              "    <tr>\n",
              "      <th>1949-05-19</th>\n",
              "      <td>0.0</td>\n",
              "      <td>NaN</td>\n",
              "      <td>38.5</td>\n",
              "      <td>NaN</td>\n",
              "      <td>1949</td>\n",
              "      <td>5</td>\n",
              "    </tr>\n",
              "    <tr>\n",
              "      <th>1949-05-20</th>\n",
              "      <td>0.0</td>\n",
              "      <td>NaN</td>\n",
              "      <td>40.5</td>\n",
              "      <td>13.0</td>\n",
              "      <td>1949</td>\n",
              "      <td>5</td>\n",
              "    </tr>\n",
              "    <tr>\n",
              "      <th>1949-05-21</th>\n",
              "      <td>0.0</td>\n",
              "      <td>13.1</td>\n",
              "      <td>41.5</td>\n",
              "      <td>13.5</td>\n",
              "      <td>1949</td>\n",
              "      <td>5</td>\n",
              "    </tr>\n",
              "    <tr>\n",
              "      <th>1949-05-22</th>\n",
              "      <td>0.0</td>\n",
              "      <td>11.7</td>\n",
              "      <td>42.0</td>\n",
              "      <td>13.5</td>\n",
              "      <td>1949</td>\n",
              "      <td>5</td>\n",
              "    </tr>\n",
              "    <tr>\n",
              "      <th>1949-05-23</th>\n",
              "      <td>0.0</td>\n",
              "      <td>11.5</td>\n",
              "      <td>40.0</td>\n",
              "      <td>15.5</td>\n",
              "      <td>1949</td>\n",
              "      <td>5</td>\n",
              "    </tr>\n",
              "  </tbody>\n",
              "</table>\n",
              "</div>"
            ],
            "text/plain": [
              "            PRECIP  EVAP  TMax  TMin   Año  Mes\n",
              "FECHA                                          \n",
              "1949-05-19     0.0   NaN  38.5   NaN  1949    5\n",
              "1949-05-20     0.0   NaN  40.5  13.0  1949    5\n",
              "1949-05-21     0.0  13.1  41.5  13.5  1949    5\n",
              "1949-05-22     0.0  11.7  42.0  13.5  1949    5\n",
              "1949-05-23     0.0  11.5  40.0  15.5  1949    5"
            ]
          },
          "metadata": {
            "tags": []
          },
          "execution_count": 19
        }
      ]
    },
    {
      "cell_type": "code",
      "metadata": {
        "colab": {
          "base_uri": "https://localhost:8080/",
          "height": 206
        },
        "id": "pe-OTs8d0Lrr",
        "outputId": "e74329a3-a7c6-444f-c2ea-1c0b2522e9ae"
      },
      "source": [
        "df_m = df_datclim3.copy()\n",
        "del(df_m['PRECIP'],df_m['EVAP'],df_m['Año'],df_m['Mes'])\n",
        "df_m.head()"
      ],
      "execution_count": 20,
      "outputs": [
        {
          "output_type": "execute_result",
          "data": {
            "text/html": [
              "<div>\n",
              "<style scoped>\n",
              "    .dataframe tbody tr th:only-of-type {\n",
              "        vertical-align: middle;\n",
              "    }\n",
              "\n",
              "    .dataframe tbody tr th {\n",
              "        vertical-align: top;\n",
              "    }\n",
              "\n",
              "    .dataframe thead th {\n",
              "        text-align: right;\n",
              "    }\n",
              "</style>\n",
              "<table border=\"1\" class=\"dataframe\">\n",
              "  <thead>\n",
              "    <tr style=\"text-align: right;\">\n",
              "      <th></th>\n",
              "      <th>FECHA</th>\n",
              "      <th>TMax</th>\n",
              "      <th>TMin</th>\n",
              "    </tr>\n",
              "  </thead>\n",
              "  <tbody>\n",
              "    <tr>\n",
              "      <th>0</th>\n",
              "      <td>1949-05-19</td>\n",
              "      <td>38.5</td>\n",
              "      <td>NaN</td>\n",
              "    </tr>\n",
              "    <tr>\n",
              "      <th>1</th>\n",
              "      <td>1949-05-20</td>\n",
              "      <td>40.5</td>\n",
              "      <td>13.0</td>\n",
              "    </tr>\n",
              "    <tr>\n",
              "      <th>2</th>\n",
              "      <td>1949-05-21</td>\n",
              "      <td>41.5</td>\n",
              "      <td>13.5</td>\n",
              "    </tr>\n",
              "    <tr>\n",
              "      <th>3</th>\n",
              "      <td>1949-05-22</td>\n",
              "      <td>42.0</td>\n",
              "      <td>13.5</td>\n",
              "    </tr>\n",
              "    <tr>\n",
              "      <th>4</th>\n",
              "      <td>1949-05-23</td>\n",
              "      <td>40.0</td>\n",
              "      <td>15.5</td>\n",
              "    </tr>\n",
              "  </tbody>\n",
              "</table>\n",
              "</div>"
            ],
            "text/plain": [
              "       FECHA  TMax  TMin\n",
              "0 1949-05-19  38.5   NaN\n",
              "1 1949-05-20  40.5  13.0\n",
              "2 1949-05-21  41.5  13.5\n",
              "3 1949-05-22  42.0  13.5\n",
              "4 1949-05-23  40.0  15.5"
            ]
          },
          "metadata": {
            "tags": []
          },
          "execution_count": 20
        }
      ]
    },
    {
      "cell_type": "code",
      "metadata": {
        "colab": {
          "base_uri": "https://localhost:8080/"
        },
        "id": "5rqhIgbf0uE7",
        "outputId": "23d25548-4fe3-4093-8b54-d61647393512"
      },
      "source": [
        "N = len(df_m)\n",
        "df_m['FechaDecimal']=df_m['TMax']\n",
        "\n",
        "for f in range(N): \n",
        "  \n",
        "  df_m['FechaDecimal'].iloc[f]=toYearFraction(df_m['FECHA'].iloc[f])\n",
        "\n",
        "del(df_m['FECHA']) \n",
        "\n",
        "print(df_m)\n"
      ],
      "execution_count": 21,
      "outputs": [
        {
          "output_type": "stream",
          "text": [
            "/usr/local/lib/python3.7/dist-packages/pandas/core/indexing.py:670: SettingWithCopyWarning: \n",
            "A value is trying to be set on a copy of a slice from a DataFrame\n",
            "\n",
            "See the caveats in the documentation: https://pandas.pydata.org/pandas-docs/stable/user_guide/indexing.html#returning-a-view-versus-a-copy\n",
            "  iloc._setitem_with_indexer(indexer, value)\n"
          ],
          "name": "stderr"
        },
        {
          "output_type": "stream",
          "text": [
            "       TMax  TMin  FechaDecimal\n",
            "0      38.5   NaN   1949.378082\n",
            "1      40.5  13.0   1949.380822\n",
            "2      41.5  13.5   1949.383562\n",
            "3      42.0  13.5   1949.386301\n",
            "4      40.0  15.5   1949.389041\n",
            "...     ...   ...           ...\n",
            "24359  38.0  21.0   2016.734973\n",
            "24360  37.0  24.0   2016.737705\n",
            "24361  40.0  23.0   2016.740437\n",
            "24362  39.0  25.0   2016.743169\n",
            "24363  37.0  26.0   2016.745902\n",
            "\n",
            "[24364 rows x 3 columns]\n"
          ],
          "name": "stdout"
        }
      ]
    },
    {
      "cell_type": "code",
      "metadata": {
        "colab": {
          "base_uri": "https://localhost:8080/"
        },
        "id": "7RbNt7a02Wvj",
        "outputId": "6d0af851-7b9e-4147-bb55-a3d85b02d4e6"
      },
      "source": [
        "x=df_m['FechaDecimal']\n",
        "X=np.column_stack([np.ones(N),x])\n",
        "print('Shape:', X.shape)"
      ],
      "execution_count": 22,
      "outputs": [
        {
          "output_type": "stream",
          "text": [
            "Shape: (24364, 2)\n"
          ],
          "name": "stdout"
        }
      ]
    },
    {
      "cell_type": "code",
      "metadata": {
        "id": "laKy88qd2abj"
      },
      "source": [
        "df_m.isnull().sum()\n",
        "df_m.fillna(df_m.mean(), inplace=True)\n",
        "ymax=np.array(df_m['TMax'])\n",
        "ymin=np.array(df_m['TMin'])"
      ],
      "execution_count": 23,
      "outputs": []
    },
    {
      "cell_type": "code",
      "metadata": {
        "colab": {
          "base_uri": "https://localhost:8080/"
        },
        "id": "5yf8YuZo2kye",
        "outputId": "8f98fc35-a09b-4cdf-b07a-2ca2bf584351"
      },
      "source": [
        "amax = la.solve(X.T @ X, X.T @ ymax)\n",
        "amin = la.solve(X.T @ X, X.T @ ymin)\n",
        "print('Para TMax')\n",
        "print(amax)\n",
        "print('Para TMin')\n",
        "print(amin)"
      ],
      "execution_count": 24,
      "outputs": [
        {
          "output_type": "stream",
          "text": [
            "Para TMax\n",
            "[2.67738261e+01 3.50962842e-03]\n",
            "Para TMin\n",
            "[-4.24046770e+01  3.06033955e-02]\n"
          ],
          "name": "stdout"
        }
      ]
    },
    {
      "cell_type": "markdown",
      "metadata": {
        "id": "gLtB2NJ10DA-"
      },
      "source": [
        "$\\text{Para la temperatura maxima:}$\n",
        "\n",
        "$26.7738261 +0.00350962842t$\n",
        "\n",
        "$\\text{Para la temperatura minima}$\n",
        "\n",
        "$-42.4046770 + 0.0376234466t$"
      ]
    }
  ]
}